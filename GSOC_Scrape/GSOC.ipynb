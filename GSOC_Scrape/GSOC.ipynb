{
 "cells": [
  {
   "cell_type": "code",
   "execution_count": 1,
   "metadata": {},
   "outputs": [],
   "source": [
    "from selenium import webdriver\n",
    "browser = webdriver.Firefox()\n",
    "browser.get('https://summerofcode.withgoogle.com/organizations/')"
   ]
  },
  {
   "cell_type": "code",
   "execution_count": 2,
   "metadata": {},
   "outputs": [
    {
     "data": {
      "text/plain": [
       "[<selenium.webdriver.firefox.webelement.FirefoxWebElement (session=\"48452382-deff-42e9-af63-86bedb8d2d5b\", element=\"fefda2fd-c1dc-4b9c-b916-f16ec29c689f\")>,\n",
       " <selenium.webdriver.firefox.webelement.FirefoxWebElement (session=\"48452382-deff-42e9-af63-86bedb8d2d5b\", element=\"8a0be963-946c-4eda-b5e7-1663b7e9e540\")>,\n",
       " <selenium.webdriver.firefox.webelement.FirefoxWebElement (session=\"48452382-deff-42e9-af63-86bedb8d2d5b\", element=\"7410e707-00c0-41b5-8402-b9f65519aab9\")>,\n",
       " <selenium.webdriver.firefox.webelement.FirefoxWebElement (session=\"48452382-deff-42e9-af63-86bedb8d2d5b\", element=\"921c2049-2801-4368-93d5-76259cbfb53a\")>,\n",
       " <selenium.webdriver.firefox.webelement.FirefoxWebElement (session=\"48452382-deff-42e9-af63-86bedb8d2d5b\", element=\"17010622-052f-47eb-b48a-e51570a1419f\")>,\n",
       " <selenium.webdriver.firefox.webelement.FirefoxWebElement (session=\"48452382-deff-42e9-af63-86bedb8d2d5b\", element=\"6e6eae7b-3f44-4b9e-b118-ca278435ae60\")>,\n",
       " <selenium.webdriver.firefox.webelement.FirefoxWebElement (session=\"48452382-deff-42e9-af63-86bedb8d2d5b\", element=\"e8dbf3b7-ba1e-44eb-ae91-2251cf351da2\")>,\n",
       " <selenium.webdriver.firefox.webelement.FirefoxWebElement (session=\"48452382-deff-42e9-af63-86bedb8d2d5b\", element=\"d66377d1-2e1c-4f16-9587-a927d8d5246b\")>,\n",
       " <selenium.webdriver.firefox.webelement.FirefoxWebElement (session=\"48452382-deff-42e9-af63-86bedb8d2d5b\", element=\"2159a040-40f6-49fd-a7a8-93edf66c6699\")>,\n",
       " <selenium.webdriver.firefox.webelement.FirefoxWebElement (session=\"48452382-deff-42e9-af63-86bedb8d2d5b\", element=\"19a463e2-6773-48b1-a2ce-4b59a3587d21\")>,\n",
       " <selenium.webdriver.firefox.webelement.FirefoxWebElement (session=\"48452382-deff-42e9-af63-86bedb8d2d5b\", element=\"1fc93a6d-ec07-4e8f-a30b-06fb37d11314\")>,\n",
       " <selenium.webdriver.firefox.webelement.FirefoxWebElement (session=\"48452382-deff-42e9-af63-86bedb8d2d5b\", element=\"ee956e6c-efc4-42fc-8b57-43c47fe740cb\")>,\n",
       " <selenium.webdriver.firefox.webelement.FirefoxWebElement (session=\"48452382-deff-42e9-af63-86bedb8d2d5b\", element=\"50d901f9-a45f-45a1-970f-81eed708cc7a\")>,\n",
       " <selenium.webdriver.firefox.webelement.FirefoxWebElement (session=\"48452382-deff-42e9-af63-86bedb8d2d5b\", element=\"18ae197b-25a9-419b-bc78-b395c03c1392\")>,\n",
       " <selenium.webdriver.firefox.webelement.FirefoxWebElement (session=\"48452382-deff-42e9-af63-86bedb8d2d5b\", element=\"a3330d12-b7a0-41ab-8ac3-95d571ec104e\")>,\n",
       " <selenium.webdriver.firefox.webelement.FirefoxWebElement (session=\"48452382-deff-42e9-af63-86bedb8d2d5b\", element=\"deb9bfe4-da26-416d-b474-2eddea2cd5a4\")>,\n",
       " <selenium.webdriver.firefox.webelement.FirefoxWebElement (session=\"48452382-deff-42e9-af63-86bedb8d2d5b\", element=\"56aed288-6a9b-4792-b784-953aadde2e11\")>,\n",
       " <selenium.webdriver.firefox.webelement.FirefoxWebElement (session=\"48452382-deff-42e9-af63-86bedb8d2d5b\", element=\"a6e38e4f-07e0-4e62-9cf0-a3bab561f639\")>,\n",
       " <selenium.webdriver.firefox.webelement.FirefoxWebElement (session=\"48452382-deff-42e9-af63-86bedb8d2d5b\", element=\"30b68f6a-a47b-4051-8e06-71f3a92e3a12\")>,\n",
       " <selenium.webdriver.firefox.webelement.FirefoxWebElement (session=\"48452382-deff-42e9-af63-86bedb8d2d5b\", element=\"bb96bf98-6d3b-4db5-9943-81a17ed14226\")>,\n",
       " <selenium.webdriver.firefox.webelement.FirefoxWebElement (session=\"48452382-deff-42e9-af63-86bedb8d2d5b\", element=\"62299b91-fc91-4104-84ff-bc9dd6bfd9ee\")>,\n",
       " <selenium.webdriver.firefox.webelement.FirefoxWebElement (session=\"48452382-deff-42e9-af63-86bedb8d2d5b\", element=\"5e25afa3-8892-4944-8436-679de227c3f1\")>,\n",
       " <selenium.webdriver.firefox.webelement.FirefoxWebElement (session=\"48452382-deff-42e9-af63-86bedb8d2d5b\", element=\"31560647-a6b6-4897-bba9-04b3225a614d\")>,\n",
       " <selenium.webdriver.firefox.webelement.FirefoxWebElement (session=\"48452382-deff-42e9-af63-86bedb8d2d5b\", element=\"8cdc0be3-17e9-457d-9634-bc2a925a0b26\")>,\n",
       " <selenium.webdriver.firefox.webelement.FirefoxWebElement (session=\"48452382-deff-42e9-af63-86bedb8d2d5b\", element=\"2a8ca946-a21a-4fe1-bdfb-36a66d9b435f\")>,\n",
       " <selenium.webdriver.firefox.webelement.FirefoxWebElement (session=\"48452382-deff-42e9-af63-86bedb8d2d5b\", element=\"ffd0b121-6d36-42c2-bc26-52d5fef30a98\")>,\n",
       " <selenium.webdriver.firefox.webelement.FirefoxWebElement (session=\"48452382-deff-42e9-af63-86bedb8d2d5b\", element=\"a1af2014-30a3-44f7-9f59-89f3d70aced9\")>,\n",
       " <selenium.webdriver.firefox.webelement.FirefoxWebElement (session=\"48452382-deff-42e9-af63-86bedb8d2d5b\", element=\"1f66d14a-2411-430b-89e2-f9e1c815d72d\")>,\n",
       " <selenium.webdriver.firefox.webelement.FirefoxWebElement (session=\"48452382-deff-42e9-af63-86bedb8d2d5b\", element=\"ab53842f-b321-46b9-82ac-8969e0dddd4c\")>,\n",
       " <selenium.webdriver.firefox.webelement.FirefoxWebElement (session=\"48452382-deff-42e9-af63-86bedb8d2d5b\", element=\"26b9bdd3-6a87-4b76-afb4-2d7722be10e4\")>,\n",
       " <selenium.webdriver.firefox.webelement.FirefoxWebElement (session=\"48452382-deff-42e9-af63-86bedb8d2d5b\", element=\"43776f14-e16f-4de3-a0d6-417469c1b6e1\")>,\n",
       " <selenium.webdriver.firefox.webelement.FirefoxWebElement (session=\"48452382-deff-42e9-af63-86bedb8d2d5b\", element=\"7e4ad46e-65e1-4582-9c65-f9a9d76a595a\")>,\n",
       " <selenium.webdriver.firefox.webelement.FirefoxWebElement (session=\"48452382-deff-42e9-af63-86bedb8d2d5b\", element=\"21cc463f-c03c-4179-8e4a-49950336a241\")>,\n",
       " <selenium.webdriver.firefox.webelement.FirefoxWebElement (session=\"48452382-deff-42e9-af63-86bedb8d2d5b\", element=\"32bfa677-f5ba-48ed-9830-ed01df435fcd\")>,\n",
       " <selenium.webdriver.firefox.webelement.FirefoxWebElement (session=\"48452382-deff-42e9-af63-86bedb8d2d5b\", element=\"b24f8e7c-1901-4df3-a0f3-493f662f9015\")>,\n",
       " <selenium.webdriver.firefox.webelement.FirefoxWebElement (session=\"48452382-deff-42e9-af63-86bedb8d2d5b\", element=\"7a72a0d7-079e-4b59-93ba-2e1350e07bc2\")>,\n",
       " <selenium.webdriver.firefox.webelement.FirefoxWebElement (session=\"48452382-deff-42e9-af63-86bedb8d2d5b\", element=\"bfbeb09b-c6b4-4e40-af1d-d69a24ae7017\")>,\n",
       " <selenium.webdriver.firefox.webelement.FirefoxWebElement (session=\"48452382-deff-42e9-af63-86bedb8d2d5b\", element=\"63450677-3cf4-4539-89f0-4713ad3dd23c\")>,\n",
       " <selenium.webdriver.firefox.webelement.FirefoxWebElement (session=\"48452382-deff-42e9-af63-86bedb8d2d5b\", element=\"24b89f32-91e4-456f-a11f-181155d1934e\")>,\n",
       " <selenium.webdriver.firefox.webelement.FirefoxWebElement (session=\"48452382-deff-42e9-af63-86bedb8d2d5b\", element=\"d1476eec-e35f-4b00-99df-4ce8c4a92266\")>,\n",
       " <selenium.webdriver.firefox.webelement.FirefoxWebElement (session=\"48452382-deff-42e9-af63-86bedb8d2d5b\", element=\"9b99e8f5-954a-48e1-b14e-f42c5579a831\")>,\n",
       " <selenium.webdriver.firefox.webelement.FirefoxWebElement (session=\"48452382-deff-42e9-af63-86bedb8d2d5b\", element=\"f076c110-6729-4df0-b351-6f260e000215\")>,\n",
       " <selenium.webdriver.firefox.webelement.FirefoxWebElement (session=\"48452382-deff-42e9-af63-86bedb8d2d5b\", element=\"852f8868-4706-4078-a1a1-ddf8764e5a26\")>,\n",
       " <selenium.webdriver.firefox.webelement.FirefoxWebElement (session=\"48452382-deff-42e9-af63-86bedb8d2d5b\", element=\"a86468de-12ed-424a-854d-aec5c705249f\")>,\n",
       " <selenium.webdriver.firefox.webelement.FirefoxWebElement (session=\"48452382-deff-42e9-af63-86bedb8d2d5b\", element=\"b386379b-6b74-4371-bc9b-c25f92c15335\")>,\n",
       " <selenium.webdriver.firefox.webelement.FirefoxWebElement (session=\"48452382-deff-42e9-af63-86bedb8d2d5b\", element=\"87c97d01-edaa-47d1-b4e2-d53ad59e1a26\")>,\n",
       " <selenium.webdriver.firefox.webelement.FirefoxWebElement (session=\"48452382-deff-42e9-af63-86bedb8d2d5b\", element=\"e6280f14-915f-4b17-8404-fddb37cfb725\")>,\n",
       " <selenium.webdriver.firefox.webelement.FirefoxWebElement (session=\"48452382-deff-42e9-af63-86bedb8d2d5b\", element=\"9f009919-e757-41aa-8d92-29624135e020\")>,\n",
       " <selenium.webdriver.firefox.webelement.FirefoxWebElement (session=\"48452382-deff-42e9-af63-86bedb8d2d5b\", element=\"1f95f7b8-449e-4dc8-ba02-aa5b6c4c0a8f\")>,\n",
       " <selenium.webdriver.firefox.webelement.FirefoxWebElement (session=\"48452382-deff-42e9-af63-86bedb8d2d5b\", element=\"07b52da2-9084-4842-8a13-11f2a246f0d5\")>,\n",
       " <selenium.webdriver.firefox.webelement.FirefoxWebElement (session=\"48452382-deff-42e9-af63-86bedb8d2d5b\", element=\"a3519e48-b9c3-445c-8b19-76468699f432\")>,\n",
       " <selenium.webdriver.firefox.webelement.FirefoxWebElement (session=\"48452382-deff-42e9-af63-86bedb8d2d5b\", element=\"9ae3c740-1ca8-4318-b757-42e89ea5f84f\")>,\n",
       " <selenium.webdriver.firefox.webelement.FirefoxWebElement (session=\"48452382-deff-42e9-af63-86bedb8d2d5b\", element=\"b8eebd7c-f93e-49ee-9626-3f3c4a685b2f\")>,\n",
       " <selenium.webdriver.firefox.webelement.FirefoxWebElement (session=\"48452382-deff-42e9-af63-86bedb8d2d5b\", element=\"02e40f47-f160-4d4e-bb0f-cd9e040a4dba\")>,\n",
       " <selenium.webdriver.firefox.webelement.FirefoxWebElement (session=\"48452382-deff-42e9-af63-86bedb8d2d5b\", element=\"a67d909f-0237-4dc1-96e1-c8c7b948f463\")>,\n",
       " <selenium.webdriver.firefox.webelement.FirefoxWebElement (session=\"48452382-deff-42e9-af63-86bedb8d2d5b\", element=\"0265c2b6-45e7-4807-8013-67f11b5d8c8d\")>,\n",
       " <selenium.webdriver.firefox.webelement.FirefoxWebElement (session=\"48452382-deff-42e9-af63-86bedb8d2d5b\", element=\"5b97aa45-7024-4a27-915d-4dcfb26658c5\")>,\n",
       " <selenium.webdriver.firefox.webelement.FirefoxWebElement (session=\"48452382-deff-42e9-af63-86bedb8d2d5b\", element=\"2ebebfac-4724-4e7d-839a-8995556383c7\")>,\n",
       " <selenium.webdriver.firefox.webelement.FirefoxWebElement (session=\"48452382-deff-42e9-af63-86bedb8d2d5b\", element=\"9c4c88ca-6772-46c9-9018-2648ab3f06ce\")>,\n",
       " <selenium.webdriver.firefox.webelement.FirefoxWebElement (session=\"48452382-deff-42e9-af63-86bedb8d2d5b\", element=\"4a4e0fd3-83d0-4874-9f94-7de42c994b2e\")>,\n",
       " <selenium.webdriver.firefox.webelement.FirefoxWebElement (session=\"48452382-deff-42e9-af63-86bedb8d2d5b\", element=\"e26b31f8-b15b-4830-99ff-a9abf5c2a24b\")>,\n",
       " <selenium.webdriver.firefox.webelement.FirefoxWebElement (session=\"48452382-deff-42e9-af63-86bedb8d2d5b\", element=\"3ae0bb8c-3a6d-49a7-96b3-753297ba0959\")>,\n",
       " <selenium.webdriver.firefox.webelement.FirefoxWebElement (session=\"48452382-deff-42e9-af63-86bedb8d2d5b\", element=\"437cd578-c87a-4488-b5f6-73c0de035edd\")>,\n",
       " <selenium.webdriver.firefox.webelement.FirefoxWebElement (session=\"48452382-deff-42e9-af63-86bedb8d2d5b\", element=\"a85f7abd-aa8c-4a79-a087-e1efc0b2f224\")>,\n",
       " <selenium.webdriver.firefox.webelement.FirefoxWebElement (session=\"48452382-deff-42e9-af63-86bedb8d2d5b\", element=\"93cd5255-40c2-4a6f-aac9-faac2840259b\")>,\n",
       " <selenium.webdriver.firefox.webelement.FirefoxWebElement (session=\"48452382-deff-42e9-af63-86bedb8d2d5b\", element=\"2080ebf7-9072-4f7d-a727-c49a1f1c3c73\")>,\n",
       " <selenium.webdriver.firefox.webelement.FirefoxWebElement (session=\"48452382-deff-42e9-af63-86bedb8d2d5b\", element=\"ab40f973-1cd7-4fad-841a-53575e4d4f45\")>,\n",
       " <selenium.webdriver.firefox.webelement.FirefoxWebElement (session=\"48452382-deff-42e9-af63-86bedb8d2d5b\", element=\"d6c61373-cc22-4488-97fb-f77bcc968c66\")>,\n",
       " <selenium.webdriver.firefox.webelement.FirefoxWebElement (session=\"48452382-deff-42e9-af63-86bedb8d2d5b\", element=\"8ab53fd8-ec11-450e-9f51-fa5511f3dbcf\")>,\n",
       " <selenium.webdriver.firefox.webelement.FirefoxWebElement (session=\"48452382-deff-42e9-af63-86bedb8d2d5b\", element=\"66fcf476-a945-4a62-93e5-be272f40568a\")>,\n",
       " <selenium.webdriver.firefox.webelement.FirefoxWebElement (session=\"48452382-deff-42e9-af63-86bedb8d2d5b\", element=\"279e2280-d72c-4caa-88fd-e1c54ef071c9\")>,\n",
       " <selenium.webdriver.firefox.webelement.FirefoxWebElement (session=\"48452382-deff-42e9-af63-86bedb8d2d5b\", element=\"c1906470-b2e9-4074-a11e-5495db3c0ad2\")>,\n",
       " <selenium.webdriver.firefox.webelement.FirefoxWebElement (session=\"48452382-deff-42e9-af63-86bedb8d2d5b\", element=\"4fa3fe63-d050-40a9-bdeb-227b4a484c75\")>,\n",
       " <selenium.webdriver.firefox.webelement.FirefoxWebElement (session=\"48452382-deff-42e9-af63-86bedb8d2d5b\", element=\"23b04b52-0188-48ff-b560-009074825710\")>,\n",
       " <selenium.webdriver.firefox.webelement.FirefoxWebElement (session=\"48452382-deff-42e9-af63-86bedb8d2d5b\", element=\"ea62682f-5476-4176-bb92-9275cf357ca6\")>,\n",
       " <selenium.webdriver.firefox.webelement.FirefoxWebElement (session=\"48452382-deff-42e9-af63-86bedb8d2d5b\", element=\"4fadfd1c-1a58-4dcd-a8c7-d9764d3ae01b\")>,\n",
       " <selenium.webdriver.firefox.webelement.FirefoxWebElement (session=\"48452382-deff-42e9-af63-86bedb8d2d5b\", element=\"bd7bd290-709e-47dd-8d05-a39ddbf205b8\")>,\n",
       " <selenium.webdriver.firefox.webelement.FirefoxWebElement (session=\"48452382-deff-42e9-af63-86bedb8d2d5b\", element=\"3e0ec0d7-a9f1-4507-a780-014c2a142552\")>,\n",
       " <selenium.webdriver.firefox.webelement.FirefoxWebElement (session=\"48452382-deff-42e9-af63-86bedb8d2d5b\", element=\"7c15d8f6-d55f-4575-b5f5-c1cbdc5f65e9\")>,\n",
       " <selenium.webdriver.firefox.webelement.FirefoxWebElement (session=\"48452382-deff-42e9-af63-86bedb8d2d5b\", element=\"0c5d9e06-c7c8-4ed4-a17c-bf989e5a3da3\")>,\n",
       " <selenium.webdriver.firefox.webelement.FirefoxWebElement (session=\"48452382-deff-42e9-af63-86bedb8d2d5b\", element=\"ba2a2122-eb57-4cf3-b8ef-ae9281316240\")>,\n",
       " <selenium.webdriver.firefox.webelement.FirefoxWebElement (session=\"48452382-deff-42e9-af63-86bedb8d2d5b\", element=\"126d2d0b-de04-45fd-89e8-94fa17a77bd9\")>,\n",
       " <selenium.webdriver.firefox.webelement.FirefoxWebElement (session=\"48452382-deff-42e9-af63-86bedb8d2d5b\", element=\"ee9239a0-8a67-4a17-b9a8-2efa6f69d641\")>,\n",
       " <selenium.webdriver.firefox.webelement.FirefoxWebElement (session=\"48452382-deff-42e9-af63-86bedb8d2d5b\", element=\"65ae6bfa-ec42-4dbd-b36f-31645a04b89a\")>,\n",
       " <selenium.webdriver.firefox.webelement.FirefoxWebElement (session=\"48452382-deff-42e9-af63-86bedb8d2d5b\", element=\"60717958-15a2-45a6-a02c-38d3dd61ae44\")>,\n",
       " <selenium.webdriver.firefox.webelement.FirefoxWebElement (session=\"48452382-deff-42e9-af63-86bedb8d2d5b\", element=\"ffb12cd0-d882-47fe-89c3-79a9ef316b80\")>,\n",
       " <selenium.webdriver.firefox.webelement.FirefoxWebElement (session=\"48452382-deff-42e9-af63-86bedb8d2d5b\", element=\"fa820103-d85e-4d92-8900-27cbe2f3d2a9\")>,\n",
       " <selenium.webdriver.firefox.webelement.FirefoxWebElement (session=\"48452382-deff-42e9-af63-86bedb8d2d5b\", element=\"821a3fd9-652d-4c97-8ff1-49132a5c5f06\")>,\n",
       " <selenium.webdriver.firefox.webelement.FirefoxWebElement (session=\"48452382-deff-42e9-af63-86bedb8d2d5b\", element=\"24316832-0dc8-486b-92f0-e52493f971c6\")>,\n",
       " <selenium.webdriver.firefox.webelement.FirefoxWebElement (session=\"48452382-deff-42e9-af63-86bedb8d2d5b\", element=\"ec7dc38a-e372-4f26-9f30-699e18abb603\")>,\n",
       " <selenium.webdriver.firefox.webelement.FirefoxWebElement (session=\"48452382-deff-42e9-af63-86bedb8d2d5b\", element=\"e8fc6974-67d7-4403-a672-c145ab5111f2\")>,\n",
       " <selenium.webdriver.firefox.webelement.FirefoxWebElement (session=\"48452382-deff-42e9-af63-86bedb8d2d5b\", element=\"aef14af2-9352-44ec-aa84-d87aaf795ece\")>,\n",
       " <selenium.webdriver.firefox.webelement.FirefoxWebElement (session=\"48452382-deff-42e9-af63-86bedb8d2d5b\", element=\"88800d2d-78b9-4650-a2c5-a90f79038c7b\")>,\n",
       " <selenium.webdriver.firefox.webelement.FirefoxWebElement (session=\"48452382-deff-42e9-af63-86bedb8d2d5b\", element=\"ac75afcb-bd6b-4a9f-8f37-f8c79c51e233\")>,\n",
       " <selenium.webdriver.firefox.webelement.FirefoxWebElement (session=\"48452382-deff-42e9-af63-86bedb8d2d5b\", element=\"26d244fd-6015-471f-a523-34f2567efe37\")>,\n",
       " <selenium.webdriver.firefox.webelement.FirefoxWebElement (session=\"48452382-deff-42e9-af63-86bedb8d2d5b\", element=\"cac08527-fae7-4a20-832a-59673ca940cb\")>]"
      ]
     },
     "execution_count": 2,
     "metadata": {},
     "output_type": "execute_result"
    }
   ],
   "source": [
    "gsoc = browser.find_elements_by_class_name('organization-card')\n",
    "gsoc"
   ]
  },
  {
   "cell_type": "code",
   "execution_count": 3,
   "metadata": {
    "scrolled": true
   },
   "outputs": [
    {
     "name": "stdout",
     "output_type": "stream",
     "text": [
      "['5938771267158016', '6118953540124672', '5583558956023808', '5431334980288512', '4847332097523712', '4761344039976960', '4765796773920768', '5130128118513664', '6567493276008448', '4625085732749312', '4754270631493632', '5883027960365056', '4998384560111616', '6043674239041536', '5825827049046016', '6338471594033152', '6617016799068160', '5061224421654528', '5998740693843968', '4790790335758336', '5303751997390848', '5392874548494336', '5351601731010560', '5759105409482752', '5777773679869952', '4813203146539008', '4639943769456640', '5935622787694592', '6021327920562176', '4892546359099392', '6078625535754240', '6560513423572992', '6029102287421440', '4564653657554944', '5638078861934592', '5709446018236416', '5658367750569984', '6229192392310784', '6707388279685120', '6514859793973248', '6333591376625664', '4899131718369280', '6103365956665344', '4820145699028992', '5566947593289728', '5088529877565440', '5394263439835136', '5465143218012160', '5729071435087872', '6519463462043648', '6538934702571520', '5798508641124352', '5959199513640960', '6623088137994240', '6190195571949568', '5997470994137088', '4914571964317696', '6583387272249344', '6062712681922560', '5787425444462592', '6339185571528704', '4729943064313856', '6416323580526592', '6104737735245824', '6643588285333504', '5461759991742464', '5772865612283904', '5712783778250752', '6730074739441664', '5389784319524864', '5112547200466944', '6553848640962560', '5940065126055936', '5972111219228672', '5556388114202624', '6557492048297984', '5984693862793216', '5311282658410496', '5292337819811840', '6255086622212096', '5071439196061696', '6482109326163968', '4895798387539968', '6085209989054464', '5858307403677696', '6728816414687232', '5489320354381824', '4950661165219840', '6626799532900352', '5191268112531456', '4867823862546432', '4860558113767424', '6575961548521472', '4706869218639872', '5852051649593344', '6444860416983040']\n"
     ]
    }
   ],
   "source": [
    "ids = []\n",
    "for i in gsoc :\n",
    "    ids.append(i.get_attribute('data-id'))\n",
    "print(ids)"
   ]
  },
  {
   "cell_type": "code",
   "execution_count": 4,
   "metadata": {},
   "outputs": [
    {
     "name": "stdout",
     "output_type": "stream",
     "text": [
      "96\n"
     ]
    },
    {
     "data": {
      "text/plain": [
       "[['AboutCode.org',\n",
       "  'https://aboutcode.org',\n",
       "  'Find the origin and license of code\\nOpen Source for Open Source\\nAboutCode is a set of open source tools to discover and manage important information about your software. Our primary focus is to solve the problem of discovering, identifying, tracking and managing open source and third-party components used in your products, applications and systems. The AboutCode tools are designed to be modular so that a software development team can quickly implement a workflow tailored for its set of languages, technologies and tools.'],\n",
       " ['AerospaceResearch.net',\n",
       "  'http://www.aerospaceresearch.net',\n",
       "  'making space together\\nWe are AerospaceResearch.net, a small team of space makers solving space problems together with the Small Satellite Student Society University of Stuttgart (KSat e.V.) and the ep2lab of Charles III University of Madrid.\\nIn 2011, we started as a student group at the University of Stuttgart to provide massive computing power with our distributed computting platform Constellation to everyone needing it for space simulations. Over time, we attracted international young professionals of the space industry and the local maker community and thus becoming a full fletched citizen science project.\\nWe are a community of several different Teams in Stuttgart and globally working together on space projects. Together with KSat e.V. (the Small Satellite Student Society) from the University of Stuttgart and the Distributed Ground Station Network Team at the Institute for Photogrammetry we are working on the rover mission ROACH crawling for maintenance reasons on the outer hull of a sounding rocket while coasting in near space or tracking cubesats faster than US NORAD. With the Cosmic Dust Team of the Institute for Space Systems at University of Stuttgart we are simulating cometary dust particles for the IMEX project of the European Space Agency (ESA). And now with our newest umbrella team, the ep2lab of Charles III University of Madrid, we are also involved in simulating and building propulsion systems for space applications.\\nWe are a small organization but having impact within our space community by helping realizing space exploration by creativity and open access. We are open for everybody interested in space for the betterment of everybody. We believe everyone can be involved in space and making space together!']]"
      ]
     },
     "execution_count": 4,
     "metadata": {},
     "output_type": "execute_result"
    }
   ],
   "source": [
    "import time\n",
    "print(len(ids))\n",
    "organisations = []\n",
    "for id in range(1,3) :\n",
    "    browser = webdriver.Firefox()\n",
    "    browser.get('https://summerofcode.withgoogle.com/organizations/'+ ids[id])\n",
    "    time.sleep(5)\n",
    "    description = browser.find_elements_by_class_name('layout-padding')\n",
    "    organisation = []\n",
    "    l = (browser.find_elements_by_class_name('banner__text')[0].text).split('\\n')\n",
    "    for i in l :\n",
    "        organisation.append(i)\n",
    "    organisation.append(description[0].text)\n",
    "    organisations.append(organisation)   \n",
    "organisations"
   ]
  },
  {
   "cell_type": "code",
   "execution_count": 6,
   "metadata": {},
   "outputs": [],
   "source": [
    "import csv\n",
    "with open('GSOC.csv','w+') as gsoc :\n",
    "    writer = csv.writer(gsoc, delimiter=',', quotechar='\"', quoting=csv.QUOTE_MINIMAL)\n",
    "    writer.writerow(['Company','Link', 'Description'])\n",
    "    for org in organisations:\n",
    "        writer.writerow(org)\n",
    "    "
   ]
  }
 ],
 "metadata": {
  "kernelspec": {
   "display_name": "Python 3",
   "language": "python",
   "name": "python3"
  },
  "language_info": {
   "codemirror_mode": {
    "name": "ipython",
    "version": 3
   },
   "file_extension": ".py",
   "mimetype": "text/x-python",
   "name": "python",
   "nbconvert_exporter": "python",
   "pygments_lexer": "ipython3",
   "version": "3.6.8"
  }
 },
 "nbformat": 4,
 "nbformat_minor": 2
}
